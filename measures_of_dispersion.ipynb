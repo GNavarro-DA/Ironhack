{
 "cells": [
  {
   "cell_type": "markdown",
   "metadata": {},
   "source": [
    "## Measures of Dispersion"
   ]
  },
  {
   "cell_type": "raw",
   "metadata": {},
   "source": [
    "Measures of dispersion are used to measure how \"spread out\" the data is. Here we will talk about `Range`, `Standard Deviation` and `Variance`\n"
   ]
  },
  {
   "cell_type": "markdown",
   "metadata": {},
   "source": [
    "Here is a video that will help you understand the concept better:\n",
    "    \n",
    "    https://www.youtube.com/watch?v=E4HAYd0QnRc"
   ]
  },
  {
   "cell_type": "markdown",
   "metadata": {},
   "source": [
    "### Range"
   ]
  },
  {
   "cell_type": "raw",
   "metadata": {},
   "source": [
    "It is the difference between two extreme observations of the data set. If `X max` and `X min` are the two extreme observations then `Range` = `X max` – `X min`"
   ]
  },
  {
   "cell_type": "code",
   "execution_count": 1,
   "metadata": {},
   "outputs": [],
   "source": [
    "import statistics as stats"
   ]
  },
  {
   "cell_type": "code",
   "execution_count": 2,
   "metadata": {},
   "outputs": [
    {
     "data": {
      "text/plain": [
       "99"
      ]
     },
     "execution_count": 2,
     "metadata": {},
     "output_type": "execute_result"
    }
   ],
   "source": [
    "lst = [12, 23, 43, 19, 1, 33, 76 , 100]\n",
    "\n",
    "lst_range = max(lst) - min(lst)\n",
    "lst_range"
   ]
  },
  {
   "cell_type": "code",
   "execution_count": null,
   "metadata": {},
   "outputs": [],
   "source": []
  },
  {
   "cell_type": "markdown",
   "metadata": {},
   "source": [
    "### Variance "
   ]
  },
  {
   "cell_type": "code",
   "execution_count": null,
   "metadata": {},
   "outputs": [],
   "source": [
    "Variance describes spread (from the mean) in the data. It tells us how scattered the data is, around the mean. \n",
    "\n",
    "This quantity is always positive \n",
    "\n",
    "Larger the magnitude, larger is the spread and vice-versa"
   ]
  },
  {
   "cell_type": "raw",
   "metadata": {},
   "source": [
    "Here we will see how to calculate the variance manually:\n",
    "    \n",
    "Step 1: Compute the mean\n",
    "Step 2: Subtract the mean from each individual observation. This is called deviation \n",
    "Step 3: Take the square of these deviations. These are called squared deviations \n",
    "Step 4: Add all the squared deviations. This is called sum of squares \n",
    "Step 5: Divide the sum of squares by (n-1) where `n` is the number of observations. This is called variance \n"
   ]
  },
  {
   "cell_type": "code",
   "execution_count": null,
   "metadata": {},
   "outputs": [],
   "source": [
    "# Using statistics library to compute variance "
   ]
  },
  {
   "cell_type": "code",
   "execution_count": null,
   "metadata": {},
   "outputs": [],
   "source": [
    "lst = [12, 23, 43, 19, 1, 33, 76 , 100, 12, 54, 56, 98, 32, 54, 87]"
   ]
  },
  {
   "cell_type": "code",
   "execution_count": 3,
   "metadata": {},
   "outputs": [
    {
     "data": {
      "text/plain": [
       "1138.267857142857"
      ]
     },
     "execution_count": 3,
     "metadata": {},
     "output_type": "execute_result"
    }
   ],
   "source": [
    "import statistics as stats\n",
    "stats.variance(lst)"
   ]
  },
  {
   "cell_type": "code",
   "execution_count": null,
   "metadata": {},
   "outputs": [],
   "source": []
  },
  {
   "cell_type": "markdown",
   "metadata": {},
   "source": [
    "### Standard Deviation"
   ]
  },
  {
   "cell_type": "code",
   "execution_count": null,
   "metadata": {},
   "outputs": [],
   "source": [
    "Here we will see how to calculate the variance manually:\n",
    "    \n",
    "Step 1: Compute the mean\n",
    "Step 2: Subtract the mean from each individual observation. This is called deviation \n",
    "Step 3: Take the square of these deviations. These are called squared deviations \n",
    "Step 4: Add all the squared deviations. This is called sum of squares \n",
    "Step 5: Divide the sum of squares by (n-1) where `n` is the number of observations. This is called variance \n",
    "Step 6: Take the square root of variance. This is called standard deviation \n"
   ]
  },
  {
   "cell_type": "code",
   "execution_count": null,
   "metadata": {},
   "outputs": [],
   "source": [
    "# Using statistics library to compute standard deviation "
   ]
  },
  {
   "cell_type": "code",
   "execution_count": 4,
   "metadata": {},
   "outputs": [
    {
     "data": {
      "text/plain": [
       "33.738225459304424"
      ]
     },
     "execution_count": 4,
     "metadata": {},
     "output_type": "execute_result"
    }
   ],
   "source": [
    "import statistics as stats\n",
    "stats.stdev(lst)"
   ]
  },
  {
   "cell_type": "code",
   "execution_count": null,
   "metadata": {},
   "outputs": [],
   "source": []
  },
  {
   "cell_type": "markdown",
   "metadata": {},
   "source": [
    "#### Difference between standard deviation and variance "
   ]
  },
  {
   "cell_type": "raw",
   "metadata": {},
   "source": [
    "Even though both variance and standard deviation are measures of spread/dispersion, there is a difference in the units of the two things. Unit of variance is squared of the unit of the original data while unit of standard deviation is same as the unit of the original data. Therefore for practical purposes, sometimes people prefer to use standard deviation instead of variance. \n",
    "\n",
    "Also since variance is square of standard deviation, if the value of standard deviation is large then the magnitude of variance becomes larger. Sometimes it is prefereable to work with numbers of lesser magnitudes"
   ]
  },
  {
   "cell_type": "code",
   "execution_count": null,
   "metadata": {},
   "outputs": [],
   "source": []
  },
  {
   "cell_type": "markdown",
   "metadata": {},
   "source": [
    "## Population and Sample"
   ]
  },
  {
   "cell_type": "raw",
   "metadata": {},
   "source": [
    "When we talked about descriptive statistics, we only talked about the data as a whole ie we considered all the \n",
    "data that was given to us. This is called \"Population\" data. But we only considered dummy cases where we \n",
    "used some data in a list. When statisticians have to work with data, they have to deal with a large number of \n",
    "values in order to be able to make some reliable estimates. But in real world it is not possible to collect such a huge number of data points. Therefore we work with a smaller set or a subet of data. This subset is also called as a sample. This sample is assumed to come from a large population and is taken randomly, hence the sample drawn is also called random sample. \n",
    "\n",
    "Whenever we are working with a sample , the statistics described earlier are called sample statitics. \n",
    "For eg instead of `mean` we use the term `sample mean`, instead of `variance` we used the term `sample variance` and instead of `standard deviation` we use `sample standard deviation`"
   ]
  },
  {
   "cell_type": "code",
   "execution_count": null,
   "metadata": {},
   "outputs": [],
   "source": [
    "We will talk about this in more detail during the bootcamp. "
   ]
  },
  {
   "cell_type": "code",
   "execution_count": null,
   "metadata": {},
   "outputs": [],
   "source": []
  },
  {
   "cell_type": "markdown",
   "metadata": {},
   "source": [
    "### Exercise "
   ]
  },
  {
   "cell_type": "raw",
   "metadata": {},
   "source": [
    "1. What is the range for the data set\n",
    "    points = [-4,  17,  25,  19,  6,  11,  7]\n",
    "    \n",
    "2. You are given the following dataset:\n",
    "    \n",
    "    data = [2,4,7,1,6,8]\n",
    "    \n",
    "    How does the standard deviation change when 6 is replaced with 12 ? Does it increase, or decrease, or it remains the same?\n",
    "    \n",
    "\n",
    "3. Is is possile to have a dataset with 0 standard deviation or variance? If yes, can you think of any dataset with 6 data points that have 0 standard deviation?\n",
    "\n",
    "\n",
    "4. We know that standard deviation is a measure of spread in the dataset. What is meant by deviation here?\n",
    "\n",
    "\n",
    "5. Given the dataset in the list:\n",
    "    data = [23, 12, 34, 65, 34, 81]\n",
    "    What is the deviation from the mean for each of the points in the list. Write a for loop and print each of the values \n",
    "    \n",
    "    \n",
    "6. How is standard deviation different than variance ?   "
   ]
  },
  {
   "cell_type": "code",
   "execution_count": 1,
   "metadata": {},
   "outputs": [
    {
     "name": "stdout",
     "output_type": "stream",
     "text": [
      "29\n"
     ]
    }
   ],
   "source": [
    "#1. What is the range for the data set\n",
    "\n",
    "points = [-4,  17,  25,  19,  6,  11,  7]\n",
    "points_range = max(points) - min(points)\n",
    "print(points_range)"
   ]
  },
  {
   "cell_type": "code",
   "execution_count": 13,
   "metadata": {},
   "outputs": [
    {
     "name": "stdout",
     "output_type": "stream",
     "text": [
      "The standard deviation of the list including the number 6 is  2.804757862395017\n",
      " \n",
      "The standard deviation of the list changing the number 6 for 12 is  4.131182235954578\n",
      " \n",
      "The difference of both standard deviation is  -1.3264243735595604 being higher with the number 12 (almost the double)\n"
     ]
    }
   ],
   "source": [
    "#2. You are given the following dataset:\n",
    "    \n",
    "data = [2,4,7,1,6,8]\n",
    "    \n",
    "#How does the standard deviation change when 6 is replaced with 12 ? Does it increase, or decrease, or it remains the same?\n",
    "    \n",
    "import statistics as stats\n",
    "std_data = stats.stdev(data)\n",
    "print(\"The standard deviation of the list including the number 6 is \", std_data)\n",
    "\n",
    "\n",
    "data.remove(6)\n",
    "data.append(12)\n",
    "\n",
    "print(\" \")\n",
    "\n",
    "std_data1 = stats.stdev(data)\n",
    "print(\"The standard deviation of the list changing the number 6 for 12 is \", std_data1)\n",
    "print(\" \")\n",
    "print(\"The difference of both standard deviation is \", std_data - std_data1, \"being higher with the number 12 (almost the double)\")"
   ]
  },
  {
   "cell_type": "code",
   "execution_count": 16,
   "metadata": {},
   "outputs": [
    {
     "name": "stdout",
     "output_type": "stream",
     "text": [
      "0.0\n"
     ]
    }
   ],
   "source": [
    "#3. Is is possile to have a dataset with 0 standard deviation or variance? If yes, can you think of any dataset with 6 data points that have 0 standard deviation?\n",
    "\n",
    "#YES, IS POSSIBLE. \n",
    "\n",
    "example = [6, 6, 6, 6, 6, 6]\n",
    "std_example = stats.stdev(example)\n",
    "print(std_example)"
   ]
  },
  {
   "cell_type": "code",
   "execution_count": null,
   "metadata": {},
   "outputs": [],
   "source": [
    "# 4. We know that standard deviation is a measure of spread in the dataset. What is meant by deviation here?\n",
    "\n",
    "The 'mean distance' between observed data values and its own sample mean"
   ]
  },
  {
   "cell_type": "code",
   "execution_count": 19,
   "metadata": {},
   "outputs": [
    {
     "name": "stdout",
     "output_type": "stream",
     "text": [
      "The deviation from the mean is:  [-18.5, -29.5, -7.5, 23.5, -7.5, 39.5]\n"
     ]
    }
   ],
   "source": [
    "#5. Given the dataset in the list:\n",
    "\n",
    "data = [23, 12, 34, 65, 34, 81]\n",
    "\n",
    "#What is the deviation from the mean for each of the points in the list. Write a for loop and print each of the values \n",
    "\n",
    "mean_data = stats.mean(data)\n",
    "\n",
    "difference = []\n",
    "\n",
    "for i in data:\n",
    "    diff = i - mean_data\n",
    "    difference.append(diff)\n",
    "\n",
    "print(\"The deviation from the mean is: \", difference)"
   ]
  },
  {
   "cell_type": "code",
   "execution_count": null,
   "metadata": {},
   "outputs": [],
   "source": [
    "#6. How is standard deviation different than variance ?   \n",
    "\n",
    "Squared standard deviation is equal to variance. "
   ]
  }
 ],
 "metadata": {
  "kernelspec": {
   "display_name": "Python 3",
   "language": "python",
   "name": "python3"
  },
  "language_info": {
   "codemirror_mode": {
    "name": "ipython",
    "version": 3
   },
   "file_extension": ".py",
   "mimetype": "text/x-python",
   "name": "python",
   "nbconvert_exporter": "python",
   "pygments_lexer": "ipython3",
   "version": "3.8.8"
  }
 },
 "nbformat": 4,
 "nbformat_minor": 2
}
